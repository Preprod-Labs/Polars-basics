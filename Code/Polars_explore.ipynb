{
 "cells": [
  {
   "cell_type": "code",
   "execution_count": 69,
   "metadata": {},
   "outputs": [],
   "source": [
    "#META DATA - - - - - - - - - - - - - - - - - - - - - - - - - - - - - - - - - - - - - - - - - - - - - - - - - \n",
    "\n",
    "    # Developer details: \n",
    "        # Name: Harish S\n",
    "        # Role: Architect\n",
    "        # Code ownership rights: Harish S\n",
    "    # Version:\n",
    "        # Version: V 1.0 (Sept 14 )\n",
    "            # Developer: Harish S\n",
    "     \n",
    "    # Description: The code enables to explore features of POLARS library\n",
    "    \n",
    "# CODE - - - - - - - - - - - - - - - - - - - - - - - - - - - - - - - - - - - - - - - - - - - - - - - - - \n",
    "\n",
    "# Dependency: \n",
    "    # Environment:     \n",
    "        #Python 3.12"
   ]
  },
  {
   "cell_type": "markdown",
   "metadata": {},
   "source": [
    "DATA SOURCE LINK\n",
    "\n",
    "\n",
    "\n"
   ]
  },
  {
   "cell_type": "markdown",
   "metadata": {},
   "source": [
    "https://www.kaggle.com/datasets/shubh0799/churn-modelling?select=Churn_Modelling.csv"
   ]
  },
  {
   "cell_type": "markdown",
   "metadata": {},
   "source": [
    "Import libaries"
   ]
  },
  {
   "cell_type": "code",
   "execution_count": 70,
   "metadata": {},
   "outputs": [],
   "source": [
    "import polars as pl #import polars library for data computation\n",
    "import numpy as np #import numpy for numerical computation"
   ]
  },
  {
   "cell_type": "markdown",
   "metadata": {},
   "source": [
    "Read the data "
   ]
  },
  {
   "cell_type": "code",
   "execution_count": 71,
   "metadata": {},
   "outputs": [],
   "source": [
    "datapath=input(\"enter the path of data\") # enter the path of data file\n",
    "df=pl.read_csv(datapath+'Churn_Modelling.csv') #"
   ]
  },
  {
   "cell_type": "markdown",
   "metadata": {},
   "source": [
    "Visualise the data"
   ]
  },
  {
   "cell_type": "code",
   "execution_count": 72,
   "metadata": {},
   "outputs": [
    {
     "data": {
      "text/html": [
       "<div><style>\n",
       ".dataframe > thead > tr,\n",
       ".dataframe > tbody > tr {\n",
       "  text-align: right;\n",
       "  white-space: pre-wrap;\n",
       "}\n",
       "</style>\n",
       "<small>shape: (5, 14)</small><table border=\"1\" class=\"dataframe\"><thead><tr><th>RowNumber</th><th>CustomerId</th><th>Surname</th><th>CreditScore</th><th>Geography</th><th>Gender</th><th>Age</th><th>Tenure</th><th>Balance</th><th>NumOfProducts</th><th>HasCrCard</th><th>IsActiveMember</th><th>EstimatedSalary</th><th>Exited</th></tr><tr><td>i64</td><td>i64</td><td>str</td><td>i64</td><td>str</td><td>str</td><td>i64</td><td>i64</td><td>f64</td><td>i64</td><td>i64</td><td>i64</td><td>f64</td><td>i64</td></tr></thead><tbody><tr><td>1</td><td>15634602</td><td>&quot;Hargrave&quot;</td><td>619</td><td>&quot;France&quot;</td><td>&quot;Female&quot;</td><td>42</td><td>2</td><td>0.0</td><td>1</td><td>1</td><td>1</td><td>101348.88</td><td>1</td></tr><tr><td>2</td><td>15647311</td><td>&quot;Hill&quot;</td><td>608</td><td>&quot;Spain&quot;</td><td>&quot;Female&quot;</td><td>41</td><td>1</td><td>83807.86</td><td>1</td><td>0</td><td>1</td><td>112542.58</td><td>0</td></tr><tr><td>3</td><td>15619304</td><td>&quot;Onio&quot;</td><td>502</td><td>&quot;France&quot;</td><td>&quot;Female&quot;</td><td>42</td><td>8</td><td>159660.8</td><td>3</td><td>1</td><td>0</td><td>113931.57</td><td>1</td></tr><tr><td>4</td><td>15701354</td><td>&quot;Boni&quot;</td><td>699</td><td>&quot;France&quot;</td><td>&quot;Female&quot;</td><td>39</td><td>1</td><td>0.0</td><td>2</td><td>0</td><td>0</td><td>93826.63</td><td>0</td></tr><tr><td>5</td><td>15737888</td><td>&quot;Mitchell&quot;</td><td>850</td><td>&quot;Spain&quot;</td><td>&quot;Female&quot;</td><td>43</td><td>2</td><td>125510.82</td><td>1</td><td>1</td><td>1</td><td>79084.1</td><td>0</td></tr></tbody></table></div>"
      ],
      "text/plain": [
       "shape: (5, 14)\n",
       "┌───────────┬────────────┬──────────┬────────────┬───┬───────────┬────────────┬───────────┬────────┐\n",
       "│ RowNumber ┆ CustomerId ┆ Surname  ┆ CreditScor ┆ … ┆ HasCrCard ┆ IsActiveMe ┆ Estimated ┆ Exited │\n",
       "│ ---       ┆ ---        ┆ ---      ┆ e          ┆   ┆ ---       ┆ mber       ┆ Salary    ┆ ---    │\n",
       "│ i64       ┆ i64        ┆ str      ┆ ---        ┆   ┆ i64       ┆ ---        ┆ ---       ┆ i64    │\n",
       "│           ┆            ┆          ┆ i64        ┆   ┆           ┆ i64        ┆ f64       ┆        │\n",
       "╞═══════════╪════════════╪══════════╪════════════╪═══╪═══════════╪════════════╪═══════════╪════════╡\n",
       "│ 1         ┆ 15634602   ┆ Hargrave ┆ 619        ┆ … ┆ 1         ┆ 1          ┆ 101348.88 ┆ 1      │\n",
       "│ 2         ┆ 15647311   ┆ Hill     ┆ 608        ┆ … ┆ 0         ┆ 1          ┆ 112542.58 ┆ 0      │\n",
       "│ 3         ┆ 15619304   ┆ Onio     ┆ 502        ┆ … ┆ 1         ┆ 0          ┆ 113931.57 ┆ 1      │\n",
       "│ 4         ┆ 15701354   ┆ Boni     ┆ 699        ┆ … ┆ 0         ┆ 0          ┆ 93826.63  ┆ 0      │\n",
       "│ 5         ┆ 15737888   ┆ Mitchell ┆ 850        ┆ … ┆ 1         ┆ 1          ┆ 79084.1   ┆ 0      │\n",
       "└───────────┴────────────┴──────────┴────────────┴───┴───────────┴────────────┴───────────┴────────┘"
      ]
     },
     "execution_count": 72,
     "metadata": {},
     "output_type": "execute_result"
    }
   ],
   "source": [
    "df.head()"
   ]
  },
  {
   "cell_type": "markdown",
   "metadata": {},
   "source": [
    "shape of the dataframe "
   ]
  },
  {
   "cell_type": "code",
   "execution_count": 73,
   "metadata": {},
   "outputs": [
    {
     "data": {
      "text/plain": [
       "(10000, 14)"
      ]
     },
     "execution_count": 73,
     "metadata": {},
     "output_type": "execute_result"
    }
   ],
   "source": [
    "df.shape"
   ]
  },
  {
   "cell_type": "code",
   "execution_count": 74,
   "metadata": {},
   "outputs": [],
   "source": [
    "# we have 10000 rows and 14 columns"
   ]
  },
  {
   "cell_type": "markdown",
   "metadata": {},
   "source": [
    "column information"
   ]
  },
  {
   "cell_type": "code",
   "execution_count": 75,
   "metadata": {},
   "outputs": [
    {
     "data": {
      "text/plain": [
       "['RowNumber',\n",
       " 'CustomerId',\n",
       " 'Surname',\n",
       " 'CreditScore',\n",
       " 'Geography',\n",
       " 'Gender',\n",
       " 'Age',\n",
       " 'Tenure',\n",
       " 'Balance',\n",
       " 'NumOfProducts',\n",
       " 'HasCrCard',\n",
       " 'IsActiveMember',\n",
       " 'EstimatedSalary',\n",
       " 'Exited']"
      ]
     },
     "execution_count": 75,
     "metadata": {},
     "output_type": "execute_result"
    }
   ],
   "source": [
    "df.columns"
   ]
  },
  {
   "cell_type": "markdown",
   "metadata": {},
   "source": [
    "Data types of columns"
   ]
  },
  {
   "cell_type": "code",
   "execution_count": 76,
   "metadata": {},
   "outputs": [
    {
     "data": {
      "text/plain": [
       "[Int64,\n",
       " Int64,\n",
       " String,\n",
       " Int64,\n",
       " String,\n",
       " String,\n",
       " Int64,\n",
       " Int64,\n",
       " Float64,\n",
       " Int64,\n",
       " Int64,\n",
       " Int64,\n",
       " Float64,\n",
       " Int64]"
      ]
     },
     "execution_count": 76,
     "metadata": {},
     "output_type": "execute_result"
    }
   ],
   "source": [
    "df.dtypes"
   ]
  },
  {
   "cell_type": "markdown",
   "metadata": {},
   "source": [
    "Descriptive statistics"
   ]
  },
  {
   "cell_type": "code",
   "execution_count": 77,
   "metadata": {},
   "outputs": [
    {
     "data": {
      "text/html": [
       "<div><style>\n",
       ".dataframe > thead > tr,\n",
       ".dataframe > tbody > tr {\n",
       "  text-align: right;\n",
       "  white-space: pre-wrap;\n",
       "}\n",
       "</style>\n",
       "<small>shape: (9, 15)</small><table border=\"1\" class=\"dataframe\"><thead><tr><th>statistic</th><th>RowNumber</th><th>CustomerId</th><th>Surname</th><th>CreditScore</th><th>Geography</th><th>Gender</th><th>Age</th><th>Tenure</th><th>Balance</th><th>NumOfProducts</th><th>HasCrCard</th><th>IsActiveMember</th><th>EstimatedSalary</th><th>Exited</th></tr><tr><td>str</td><td>f64</td><td>f64</td><td>str</td><td>f64</td><td>str</td><td>str</td><td>f64</td><td>f64</td><td>f64</td><td>f64</td><td>f64</td><td>f64</td><td>f64</td><td>f64</td></tr></thead><tbody><tr><td>&quot;count&quot;</td><td>10000.0</td><td>10000.0</td><td>&quot;10000&quot;</td><td>10000.0</td><td>&quot;10000&quot;</td><td>&quot;10000&quot;</td><td>10000.0</td><td>10000.0</td><td>10000.0</td><td>10000.0</td><td>10000.0</td><td>10000.0</td><td>10000.0</td><td>10000.0</td></tr><tr><td>&quot;null_count&quot;</td><td>0.0</td><td>0.0</td><td>&quot;0&quot;</td><td>0.0</td><td>&quot;0&quot;</td><td>&quot;0&quot;</td><td>0.0</td><td>0.0</td><td>0.0</td><td>0.0</td><td>0.0</td><td>0.0</td><td>0.0</td><td>0.0</td></tr><tr><td>&quot;mean&quot;</td><td>5000.5</td><td>1.5691e7</td><td>null</td><td>650.5288</td><td>null</td><td>null</td><td>38.9218</td><td>5.0128</td><td>76485.889288</td><td>1.5302</td><td>0.7055</td><td>0.5151</td><td>100090.239881</td><td>0.2037</td></tr><tr><td>&quot;std&quot;</td><td>2886.89568</td><td>71936.186123</td><td>null</td><td>96.653299</td><td>null</td><td>null</td><td>10.487806</td><td>2.892174</td><td>62397.405202</td><td>0.581654</td><td>0.45584</td><td>0.499797</td><td>57510.492818</td><td>0.402769</td></tr><tr><td>&quot;min&quot;</td><td>1.0</td><td>1.5565701e7</td><td>&quot;Abazu&quot;</td><td>350.0</td><td>&quot;France&quot;</td><td>&quot;Female&quot;</td><td>18.0</td><td>0.0</td><td>0.0</td><td>1.0</td><td>0.0</td><td>0.0</td><td>11.58</td><td>0.0</td></tr><tr><td>&quot;25%&quot;</td><td>2501.0</td><td>1.562853e7</td><td>null</td><td>584.0</td><td>null</td><td>null</td><td>32.0</td><td>3.0</td><td>0.0</td><td>1.0</td><td>0.0</td><td>0.0</td><td>51011.29</td><td>0.0</td></tr><tr><td>&quot;50%&quot;</td><td>5001.0</td><td>1.5690743e7</td><td>null</td><td>652.0</td><td>null</td><td>null</td><td>37.0</td><td>5.0</td><td>97208.46</td><td>1.0</td><td>1.0</td><td>1.0</td><td>100200.4</td><td>0.0</td></tr><tr><td>&quot;75%&quot;</td><td>7500.0</td><td>1.5753229e7</td><td>null</td><td>718.0</td><td>null</td><td>null</td><td>44.0</td><td>7.0</td><td>127642.44</td><td>2.0</td><td>1.0</td><td>1.0</td><td>149384.43</td><td>0.0</td></tr><tr><td>&quot;max&quot;</td><td>10000.0</td><td>1.581569e7</td><td>&quot;Zuyeva&quot;</td><td>850.0</td><td>&quot;Spain&quot;</td><td>&quot;Male&quot;</td><td>92.0</td><td>10.0</td><td>250898.09</td><td>4.0</td><td>1.0</td><td>1.0</td><td>199992.48</td><td>1.0</td></tr></tbody></table></div>"
      ],
      "text/plain": [
       "shape: (9, 15)\n",
       "┌────────────┬────────────┬───────────┬─────────┬───┬───────────┬───────────┬───────────┬──────────┐\n",
       "│ statistic  ┆ RowNumber  ┆ CustomerI ┆ Surname ┆ … ┆ HasCrCard ┆ IsActiveM ┆ Estimated ┆ Exited   │\n",
       "│ ---        ┆ ---        ┆ d         ┆ ---     ┆   ┆ ---       ┆ ember     ┆ Salary    ┆ ---      │\n",
       "│ str        ┆ f64        ┆ ---       ┆ str     ┆   ┆ f64       ┆ ---       ┆ ---       ┆ f64      │\n",
       "│            ┆            ┆ f64       ┆         ┆   ┆           ┆ f64       ┆ f64       ┆          │\n",
       "╞════════════╪════════════╪═══════════╪═════════╪═══╪═══════════╪═══════════╪═══════════╪══════════╡\n",
       "│ count      ┆ 10000.0    ┆ 10000.0   ┆ 10000   ┆ … ┆ 10000.0   ┆ 10000.0   ┆ 10000.0   ┆ 10000.0  │\n",
       "│ null_count ┆ 0.0        ┆ 0.0       ┆ 0       ┆ … ┆ 0.0       ┆ 0.0       ┆ 0.0       ┆ 0.0      │\n",
       "│ mean       ┆ 5000.5     ┆ 1.5691e7  ┆ null    ┆ … ┆ 0.7055    ┆ 0.5151    ┆ 100090.23 ┆ 0.2037   │\n",
       "│            ┆            ┆           ┆         ┆   ┆           ┆           ┆ 9881      ┆          │\n",
       "│ std        ┆ 2886.89568 ┆ 71936.186 ┆ null    ┆ … ┆ 0.45584   ┆ 0.499797  ┆ 57510.492 ┆ 0.402769 │\n",
       "│            ┆            ┆ 123       ┆         ┆   ┆           ┆           ┆ 818       ┆          │\n",
       "│ min        ┆ 1.0        ┆ 1.5565701 ┆ Abazu   ┆ … ┆ 0.0       ┆ 0.0       ┆ 11.58     ┆ 0.0      │\n",
       "│            ┆            ┆ e7        ┆         ┆   ┆           ┆           ┆           ┆          │\n",
       "│ 25%        ┆ 2501.0     ┆ 1.562853e ┆ null    ┆ … ┆ 0.0       ┆ 0.0       ┆ 51011.29  ┆ 0.0      │\n",
       "│            ┆            ┆ 7         ┆         ┆   ┆           ┆           ┆           ┆          │\n",
       "│ 50%        ┆ 5001.0     ┆ 1.5690743 ┆ null    ┆ … ┆ 1.0       ┆ 1.0       ┆ 100200.4  ┆ 0.0      │\n",
       "│            ┆            ┆ e7        ┆         ┆   ┆           ┆           ┆           ┆          │\n",
       "│ 75%        ┆ 7500.0     ┆ 1.5753229 ┆ null    ┆ … ┆ 1.0       ┆ 1.0       ┆ 149384.43 ┆ 0.0      │\n",
       "│            ┆            ┆ e7        ┆         ┆   ┆           ┆           ┆           ┆          │\n",
       "│ max        ┆ 10000.0    ┆ 1.581569e ┆ Zuyeva  ┆ … ┆ 1.0       ┆ 1.0       ┆ 199992.48 ┆ 1.0      │\n",
       "│            ┆            ┆ 7         ┆         ┆   ┆           ┆           ┆           ┆          │\n",
       "└────────────┴────────────┴───────────┴─────────┴───┴───────────┴───────────┴───────────┴──────────┘"
      ]
     },
     "execution_count": 77,
     "metadata": {},
     "output_type": "execute_result"
    }
   ],
   "source": [
    "df.describe()"
   ]
  },
  {
   "cell_type": "markdown",
   "metadata": {},
   "source": [
    "Missing values"
   ]
  },
  {
   "cell_type": "code",
   "execution_count": 78,
   "metadata": {},
   "outputs": [
    {
     "data": {
      "text/html": [
       "<div><style>\n",
       ".dataframe > thead > tr,\n",
       ".dataframe > tbody > tr {\n",
       "  text-align: right;\n",
       "  white-space: pre-wrap;\n",
       "}\n",
       "</style>\n",
       "<small>shape: (1, 14)</small><table border=\"1\" class=\"dataframe\"><thead><tr><th>RowNumber</th><th>CustomerId</th><th>Surname</th><th>CreditScore</th><th>Geography</th><th>Gender</th><th>Age</th><th>Tenure</th><th>Balance</th><th>NumOfProducts</th><th>HasCrCard</th><th>IsActiveMember</th><th>EstimatedSalary</th><th>Exited</th></tr><tr><td>u32</td><td>u32</td><td>u32</td><td>u32</td><td>u32</td><td>u32</td><td>u32</td><td>u32</td><td>u32</td><td>u32</td><td>u32</td><td>u32</td><td>u32</td><td>u32</td></tr></thead><tbody><tr><td>0</td><td>0</td><td>0</td><td>0</td><td>0</td><td>0</td><td>0</td><td>0</td><td>0</td><td>0</td><td>0</td><td>0</td><td>0</td><td>0</td></tr></tbody></table></div>"
      ],
      "text/plain": [
       "shape: (1, 14)\n",
       "┌───────────┬────────────┬─────────┬────────────┬───┬───────────┬────────────┬────────────┬────────┐\n",
       "│ RowNumber ┆ CustomerId ┆ Surname ┆ CreditScor ┆ … ┆ HasCrCard ┆ IsActiveMe ┆ EstimatedS ┆ Exited │\n",
       "│ ---       ┆ ---        ┆ ---     ┆ e          ┆   ┆ ---       ┆ mber       ┆ alary      ┆ ---    │\n",
       "│ u32       ┆ u32        ┆ u32     ┆ ---        ┆   ┆ u32       ┆ ---        ┆ ---        ┆ u32    │\n",
       "│           ┆            ┆         ┆ u32        ┆   ┆           ┆ u32        ┆ u32        ┆        │\n",
       "╞═══════════╪════════════╪═════════╪════════════╪═══╪═══════════╪════════════╪════════════╪════════╡\n",
       "│ 0         ┆ 0          ┆ 0       ┆ 0          ┆ … ┆ 0         ┆ 0          ┆ 0          ┆ 0      │\n",
       "└───────────┴────────────┴─────────┴────────────┴───┴───────────┴────────────┴────────────┴────────┘"
      ]
     },
     "execution_count": 78,
     "metadata": {},
     "output_type": "execute_result"
    }
   ],
   "source": [
    "df.select(pl.all().is_null().sum())"
   ]
  },
  {
   "cell_type": "markdown",
   "metadata": {},
   "source": [
    "Target distribution"
   ]
  },
  {
   "cell_type": "code",
   "execution_count": 79,
   "metadata": {},
   "outputs": [
    {
     "data": {
      "text/html": [
       "<div><style>\n",
       ".dataframe > thead > tr,\n",
       ".dataframe > tbody > tr {\n",
       "  text-align: right;\n",
       "  white-space: pre-wrap;\n",
       "}\n",
       "</style>\n",
       "<small>shape: (2, 2)</small><table border=\"1\" class=\"dataframe\"><thead><tr><th>Exited</th><th>count</th></tr><tr><td>i64</td><td>u32</td></tr></thead><tbody><tr><td>1</td><td>2037</td></tr><tr><td>0</td><td>7963</td></tr></tbody></table></div>"
      ],
      "text/plain": [
       "shape: (2, 2)\n",
       "┌────────┬───────┐\n",
       "│ Exited ┆ count │\n",
       "│ ---    ┆ ---   │\n",
       "│ i64    ┆ u32   │\n",
       "╞════════╪═══════╡\n",
       "│ 1      ┆ 2037  │\n",
       "│ 0      ┆ 7963  │\n",
       "└────────┴───────┘"
      ]
     },
     "execution_count": 79,
     "metadata": {},
     "output_type": "execute_result"
    }
   ],
   "source": [
    "df['Exited'].value_counts()"
   ]
  },
  {
   "cell_type": "markdown",
   "metadata": {},
   "source": [
    "Numerical columns in the data"
   ]
  },
  {
   "cell_type": "code",
   "execution_count": 80,
   "metadata": {},
   "outputs": [],
   "source": [
    "numerical_cols = df.select(pl.col(pl.Float64, pl.Int64))"
   ]
  },
  {
   "cell_type": "code",
   "execution_count": 81,
   "metadata": {},
   "outputs": [
    {
     "data": {
      "text/html": [
       "<div><style>\n",
       ".dataframe > thead > tr,\n",
       ".dataframe > tbody > tr {\n",
       "  text-align: right;\n",
       "  white-space: pre-wrap;\n",
       "}\n",
       "</style>\n",
       "<small>shape: (10_000, 11)</small><table border=\"1\" class=\"dataframe\"><thead><tr><th>RowNumber</th><th>CustomerId</th><th>CreditScore</th><th>Age</th><th>Tenure</th><th>Balance</th><th>NumOfProducts</th><th>HasCrCard</th><th>IsActiveMember</th><th>EstimatedSalary</th><th>Exited</th></tr><tr><td>i64</td><td>i64</td><td>i64</td><td>i64</td><td>i64</td><td>f64</td><td>i64</td><td>i64</td><td>i64</td><td>f64</td><td>i64</td></tr></thead><tbody><tr><td>1</td><td>15634602</td><td>619</td><td>42</td><td>2</td><td>0.0</td><td>1</td><td>1</td><td>1</td><td>101348.88</td><td>1</td></tr><tr><td>2</td><td>15647311</td><td>608</td><td>41</td><td>1</td><td>83807.86</td><td>1</td><td>0</td><td>1</td><td>112542.58</td><td>0</td></tr><tr><td>3</td><td>15619304</td><td>502</td><td>42</td><td>8</td><td>159660.8</td><td>3</td><td>1</td><td>0</td><td>113931.57</td><td>1</td></tr><tr><td>4</td><td>15701354</td><td>699</td><td>39</td><td>1</td><td>0.0</td><td>2</td><td>0</td><td>0</td><td>93826.63</td><td>0</td></tr><tr><td>5</td><td>15737888</td><td>850</td><td>43</td><td>2</td><td>125510.82</td><td>1</td><td>1</td><td>1</td><td>79084.1</td><td>0</td></tr><tr><td>&hellip;</td><td>&hellip;</td><td>&hellip;</td><td>&hellip;</td><td>&hellip;</td><td>&hellip;</td><td>&hellip;</td><td>&hellip;</td><td>&hellip;</td><td>&hellip;</td><td>&hellip;</td></tr><tr><td>9996</td><td>15606229</td><td>771</td><td>39</td><td>5</td><td>0.0</td><td>2</td><td>1</td><td>0</td><td>96270.64</td><td>0</td></tr><tr><td>9997</td><td>15569892</td><td>516</td><td>35</td><td>10</td><td>57369.61</td><td>1</td><td>1</td><td>1</td><td>101699.77</td><td>0</td></tr><tr><td>9998</td><td>15584532</td><td>709</td><td>36</td><td>7</td><td>0.0</td><td>1</td><td>0</td><td>1</td><td>42085.58</td><td>1</td></tr><tr><td>9999</td><td>15682355</td><td>772</td><td>42</td><td>3</td><td>75075.31</td><td>2</td><td>1</td><td>0</td><td>92888.52</td><td>1</td></tr><tr><td>10000</td><td>15628319</td><td>792</td><td>28</td><td>4</td><td>130142.79</td><td>1</td><td>1</td><td>0</td><td>38190.78</td><td>0</td></tr></tbody></table></div>"
      ],
      "text/plain": [
       "shape: (10_000, 11)\n",
       "┌───────────┬────────────┬─────────────┬─────┬───┬───────────┬──────────────┬─────────────┬────────┐\n",
       "│ RowNumber ┆ CustomerId ┆ CreditScore ┆ Age ┆ … ┆ HasCrCard ┆ IsActiveMemb ┆ EstimatedSa ┆ Exited │\n",
       "│ ---       ┆ ---        ┆ ---         ┆ --- ┆   ┆ ---       ┆ er           ┆ lary        ┆ ---    │\n",
       "│ i64       ┆ i64        ┆ i64         ┆ i64 ┆   ┆ i64       ┆ ---          ┆ ---         ┆ i64    │\n",
       "│           ┆            ┆             ┆     ┆   ┆           ┆ i64          ┆ f64         ┆        │\n",
       "╞═══════════╪════════════╪═════════════╪═════╪═══╪═══════════╪══════════════╪═════════════╪════════╡\n",
       "│ 1         ┆ 15634602   ┆ 619         ┆ 42  ┆ … ┆ 1         ┆ 1            ┆ 101348.88   ┆ 1      │\n",
       "│ 2         ┆ 15647311   ┆ 608         ┆ 41  ┆ … ┆ 0         ┆ 1            ┆ 112542.58   ┆ 0      │\n",
       "│ 3         ┆ 15619304   ┆ 502         ┆ 42  ┆ … ┆ 1         ┆ 0            ┆ 113931.57   ┆ 1      │\n",
       "│ 4         ┆ 15701354   ┆ 699         ┆ 39  ┆ … ┆ 0         ┆ 0            ┆ 93826.63    ┆ 0      │\n",
       "│ 5         ┆ 15737888   ┆ 850         ┆ 43  ┆ … ┆ 1         ┆ 1            ┆ 79084.1     ┆ 0      │\n",
       "│ …         ┆ …          ┆ …           ┆ …   ┆ … ┆ …         ┆ …            ┆ …           ┆ …      │\n",
       "│ 9996      ┆ 15606229   ┆ 771         ┆ 39  ┆ … ┆ 1         ┆ 0            ┆ 96270.64    ┆ 0      │\n",
       "│ 9997      ┆ 15569892   ┆ 516         ┆ 35  ┆ … ┆ 1         ┆ 1            ┆ 101699.77   ┆ 0      │\n",
       "│ 9998      ┆ 15584532   ┆ 709         ┆ 36  ┆ … ┆ 0         ┆ 1            ┆ 42085.58    ┆ 1      │\n",
       "│ 9999      ┆ 15682355   ┆ 772         ┆ 42  ┆ … ┆ 1         ┆ 0            ┆ 92888.52    ┆ 1      │\n",
       "│ 10000     ┆ 15628319   ┆ 792         ┆ 28  ┆ … ┆ 1         ┆ 0            ┆ 38190.78    ┆ 0      │\n",
       "└───────────┴────────────┴─────────────┴─────┴───┴───────────┴──────────────┴─────────────┴────────┘"
      ]
     },
     "execution_count": 81,
     "metadata": {},
     "output_type": "execute_result"
    }
   ],
   "source": [
    "numerical_cols"
   ]
  },
  {
   "cell_type": "markdown",
   "metadata": {},
   "source": [
    "Correlation matrix"
   ]
  },
  {
   "cell_type": "code",
   "execution_count": 82,
   "metadata": {},
   "outputs": [
    {
     "name": "stdout",
     "output_type": "stream",
     "text": [
      "shape: (11, 11)\n",
      "┌───────────┬───────────┬───────────┬───────────┬───┬───────────┬───────────┬───────────┬──────────┐\n",
      "│ RowNumber ┆ CustomerI ┆ CreditSco ┆ Age       ┆ … ┆ HasCrCard ┆ IsActiveM ┆ Estimated ┆ Exited   │\n",
      "│ ---       ┆ d         ┆ re        ┆ ---       ┆   ┆ ---       ┆ ember     ┆ Salary    ┆ ---      │\n",
      "│ f64       ┆ ---       ┆ ---       ┆ f64       ┆   ┆ f64       ┆ ---       ┆ ---       ┆ f64      │\n",
      "│           ┆ f64       ┆ f64       ┆           ┆   ┆           ┆ f64       ┆ f64       ┆          │\n",
      "╞═══════════╪═══════════╪═══════════╪═══════════╪═══╪═══════════╪═══════════╪═══════════╪══════════╡\n",
      "│ 1.0       ┆ 0.004202  ┆ 0.00584   ┆ 0.000783  ┆ … ┆ 0.000599  ┆ 0.012044  ┆ -0.005988 ┆ -0.01657 │\n",
      "│           ┆           ┆           ┆           ┆   ┆           ┆           ┆           ┆ 1        │\n",
      "│ 0.004202  ┆ 1.0       ┆ 0.005308  ┆ 0.009497  ┆ … ┆ -0.014025 ┆ 0.001665  ┆ 0.015271  ┆ -0.00624 │\n",
      "│           ┆           ┆           ┆           ┆   ┆           ┆           ┆           ┆ 8        │\n",
      "│ 0.00584   ┆ 0.005308  ┆ 1.0       ┆ -0.003965 ┆ … ┆ -0.005458 ┆ 0.025651  ┆ -0.001384 ┆ -0.02709 │\n",
      "│           ┆           ┆           ┆           ┆   ┆           ┆           ┆           ┆ 4        │\n",
      "│ 0.000783  ┆ 0.009497  ┆ -0.003965 ┆ 1.0       ┆ … ┆ -0.011721 ┆ 0.085472  ┆ -0.007201 ┆ 0.285323 │\n",
      "│ -0.006495 ┆ -0.014883 ┆ 0.000842  ┆ -0.009997 ┆ … ┆ 0.022583  ┆ -0.028362 ┆ 0.007784  ┆ -0.01400 │\n",
      "│           ┆           ┆           ┆           ┆   ┆           ┆           ┆           ┆ 1        │\n",
      "│ …         ┆ …         ┆ …         ┆ …         ┆ … ┆ …         ┆ …         ┆ …         ┆ …        │\n",
      "│ 0.007246  ┆ 0.016972  ┆ 0.012238  ┆ -0.03068  ┆ … ┆ 0.003183  ┆ 0.009612  ┆ 0.014204  ┆ -0.04782 │\n",
      "│ 0.000599  ┆ -0.014025 ┆ -0.005458 ┆ -0.011721 ┆ … ┆ 1.0       ┆ -0.011866 ┆ -0.009933 ┆ -0.00713 │\n",
      "│           ┆           ┆           ┆           ┆   ┆           ┆           ┆           ┆ 8        │\n",
      "│ 0.012044  ┆ 0.001665  ┆ 0.025651  ┆ 0.085472  ┆ … ┆ -0.011866 ┆ 1.0       ┆ -0.011421 ┆ -0.15612 │\n",
      "│           ┆           ┆           ┆           ┆   ┆           ┆           ┆           ┆ 8        │\n",
      "│ -0.005988 ┆ 0.015271  ┆ -0.001384 ┆ -0.007201 ┆ … ┆ -0.009933 ┆ -0.011421 ┆ 1.0       ┆ 0.012097 │\n",
      "│ -0.016571 ┆ -0.006248 ┆ -0.027094 ┆ 0.285323  ┆ … ┆ -0.007138 ┆ -0.156128 ┆ 0.012097  ┆ 1.0      │\n",
      "└───────────┴───────────┴───────────┴───────────┴───┴───────────┴───────────┴───────────┴──────────┘\n"
     ]
    }
   ],
   "source": [
    "corr_matrix = numerical_cols.corr()\n",
    "print(corr_matrix)"
   ]
  },
  {
   "cell_type": "markdown",
   "metadata": {},
   "source": [
    "Selecting categorical columns"
   ]
  },
  {
   "cell_type": "code",
   "execution_count": 83,
   "metadata": {},
   "outputs": [],
   "source": [
    "categorical_columns = [col for col, dtype in zip(df.columns, df.dtypes) if dtype in [pl.Utf8]]"
   ]
  },
  {
   "cell_type": "code",
   "execution_count": 84,
   "metadata": {},
   "outputs": [
    {
     "data": {
      "text/plain": [
       "['Surname', 'Geography', 'Gender']"
      ]
     },
     "execution_count": 84,
     "metadata": {},
     "output_type": "execute_result"
    }
   ],
   "source": [
    "categorical_columns"
   ]
  },
  {
   "cell_type": "markdown",
   "metadata": {},
   "source": [
    "Categorical to numerical encoding"
   ]
  },
  {
   "cell_type": "code",
   "execution_count": 85,
   "metadata": {},
   "outputs": [],
   "source": [
    "from sklearn.preprocessing import LabelEncoder"
   ]
  },
  {
   "cell_type": "code",
   "execution_count": 86,
   "metadata": {},
   "outputs": [],
   "source": [
    "label_enc=LabelEncoder() "
   ]
  },
  {
   "cell_type": "code",
   "execution_count": 87,
   "metadata": {},
   "outputs": [],
   "source": [
    "df = df.with_columns([\n",
    "    pl.Series('Gender_encoded', label_enc.fit_transform(df['Gender'].to_list()))\n",
    "])"
   ]
  },
  {
   "cell_type": "code",
   "execution_count": 88,
   "metadata": {},
   "outputs": [],
   "source": [
    "df = df.with_columns([\n",
    "    pl.Series('Geography_encoded', label_enc.fit_transform(df['Geography'].to_list()))\n",
    "])"
   ]
  },
  {
   "cell_type": "markdown",
   "metadata": {},
   "source": [
    "Dropping the columns not required for analysis"
   ]
  },
  {
   "cell_type": "code",
   "execution_count": 89,
   "metadata": {},
   "outputs": [],
   "source": [
    "df = df.drop(['RowNumber','CustomerId','Surname','Gender','Geography'])"
   ]
  },
  {
   "cell_type": "code",
   "execution_count": 90,
   "metadata": {},
   "outputs": [
    {
     "data": {
      "text/html": [
       "<div><style>\n",
       ".dataframe > thead > tr,\n",
       ".dataframe > tbody > tr {\n",
       "  text-align: right;\n",
       "  white-space: pre-wrap;\n",
       "}\n",
       "</style>\n",
       "<small>shape: (5, 11)</small><table border=\"1\" class=\"dataframe\"><thead><tr><th>CreditScore</th><th>Age</th><th>Tenure</th><th>Balance</th><th>NumOfProducts</th><th>HasCrCard</th><th>IsActiveMember</th><th>EstimatedSalary</th><th>Exited</th><th>Gender_encoded</th><th>Geography_encoded</th></tr><tr><td>i64</td><td>i64</td><td>i64</td><td>f64</td><td>i64</td><td>i64</td><td>i64</td><td>f64</td><td>i64</td><td>i64</td><td>i64</td></tr></thead><tbody><tr><td>619</td><td>42</td><td>2</td><td>0.0</td><td>1</td><td>1</td><td>1</td><td>101348.88</td><td>1</td><td>0</td><td>0</td></tr><tr><td>608</td><td>41</td><td>1</td><td>83807.86</td><td>1</td><td>0</td><td>1</td><td>112542.58</td><td>0</td><td>0</td><td>2</td></tr><tr><td>502</td><td>42</td><td>8</td><td>159660.8</td><td>3</td><td>1</td><td>0</td><td>113931.57</td><td>1</td><td>0</td><td>0</td></tr><tr><td>699</td><td>39</td><td>1</td><td>0.0</td><td>2</td><td>0</td><td>0</td><td>93826.63</td><td>0</td><td>0</td><td>0</td></tr><tr><td>850</td><td>43</td><td>2</td><td>125510.82</td><td>1</td><td>1</td><td>1</td><td>79084.1</td><td>0</td><td>0</td><td>2</td></tr></tbody></table></div>"
      ],
      "text/plain": [
       "shape: (5, 11)\n",
       "┌─────────────┬─────┬────────┬───────────┬───┬──────────────┬────────┬──────────────┬──────────────┐\n",
       "│ CreditScore ┆ Age ┆ Tenure ┆ Balance   ┆ … ┆ EstimatedSal ┆ Exited ┆ Gender_encod ┆ Geography_en │\n",
       "│ ---         ┆ --- ┆ ---    ┆ ---       ┆   ┆ ary          ┆ ---    ┆ ed           ┆ coded        │\n",
       "│ i64         ┆ i64 ┆ i64    ┆ f64       ┆   ┆ ---          ┆ i64    ┆ ---          ┆ ---          │\n",
       "│             ┆     ┆        ┆           ┆   ┆ f64          ┆        ┆ i64          ┆ i64          │\n",
       "╞═════════════╪═════╪════════╪═══════════╪═══╪══════════════╪════════╪══════════════╪══════════════╡\n",
       "│ 619         ┆ 42  ┆ 2      ┆ 0.0       ┆ … ┆ 101348.88    ┆ 1      ┆ 0            ┆ 0            │\n",
       "│ 608         ┆ 41  ┆ 1      ┆ 83807.86  ┆ … ┆ 112542.58    ┆ 0      ┆ 0            ┆ 2            │\n",
       "│ 502         ┆ 42  ┆ 8      ┆ 159660.8  ┆ … ┆ 113931.57    ┆ 1      ┆ 0            ┆ 0            │\n",
       "│ 699         ┆ 39  ┆ 1      ┆ 0.0       ┆ … ┆ 93826.63     ┆ 0      ┆ 0            ┆ 0            │\n",
       "│ 850         ┆ 43  ┆ 2      ┆ 125510.82 ┆ … ┆ 79084.1      ┆ 0      ┆ 0            ┆ 2            │\n",
       "└─────────────┴─────┴────────┴───────────┴───┴──────────────┴────────┴──────────────┴──────────────┘"
      ]
     },
     "execution_count": 90,
     "metadata": {},
     "output_type": "execute_result"
    }
   ],
   "source": [
    "df.head()"
   ]
  },
  {
   "cell_type": "markdown",
   "metadata": {},
   "source": [
    "Split the data into dependent and independent features"
   ]
  },
  {
   "cell_type": "code",
   "execution_count": 91,
   "metadata": {},
   "outputs": [],
   "source": [
    "X=df.drop(['Exited'])\n",
    "y=df['Exited']"
   ]
  },
  {
   "cell_type": "markdown",
   "metadata": {},
   "source": [
    "Split the features into train and test sets"
   ]
  },
  {
   "cell_type": "code",
   "execution_count": 92,
   "metadata": {},
   "outputs": [],
   "source": [
    "from sklearn.model_selection import train_test_split"
   ]
  },
  {
   "cell_type": "code",
   "execution_count": 93,
   "metadata": {},
   "outputs": [],
   "source": [
    "xtrain,xtest,ytrain,ytest=train_test_split(X,y,test_size=0.2)"
   ]
  },
  {
   "cell_type": "markdown",
   "metadata": {},
   "source": [
    "Apply ML model"
   ]
  },
  {
   "cell_type": "code",
   "execution_count": 95,
   "metadata": {},
   "outputs": [],
   "source": [
    "from sklearn.ensemble import RandomForestClassifier # Import Random Forest Classifier"
   ]
  },
  {
   "cell_type": "code",
   "execution_count": 96,
   "metadata": {},
   "outputs": [],
   "source": [
    "rfcl=RandomForestClassifier() # Intantiate random forest classifier class"
   ]
  },
  {
   "cell_type": "code",
   "execution_count": 97,
   "metadata": {},
   "outputs": [
    {
     "data": {
      "text/html": [
       "<style>#sk-container-id-1 {\n",
       "  /* Definition of color scheme common for light and dark mode */\n",
       "  --sklearn-color-text: black;\n",
       "  --sklearn-color-line: gray;\n",
       "  /* Definition of color scheme for unfitted estimators */\n",
       "  --sklearn-color-unfitted-level-0: #fff5e6;\n",
       "  --sklearn-color-unfitted-level-1: #f6e4d2;\n",
       "  --sklearn-color-unfitted-level-2: #ffe0b3;\n",
       "  --sklearn-color-unfitted-level-3: chocolate;\n",
       "  /* Definition of color scheme for fitted estimators */\n",
       "  --sklearn-color-fitted-level-0: #f0f8ff;\n",
       "  --sklearn-color-fitted-level-1: #d4ebff;\n",
       "  --sklearn-color-fitted-level-2: #b3dbfd;\n",
       "  --sklearn-color-fitted-level-3: cornflowerblue;\n",
       "\n",
       "  /* Specific color for light theme */\n",
       "  --sklearn-color-text-on-default-background: var(--sg-text-color, var(--theme-code-foreground, var(--jp-content-font-color1, black)));\n",
       "  --sklearn-color-background: var(--sg-background-color, var(--theme-background, var(--jp-layout-color0, white)));\n",
       "  --sklearn-color-border-box: var(--sg-text-color, var(--theme-code-foreground, var(--jp-content-font-color1, black)));\n",
       "  --sklearn-color-icon: #696969;\n",
       "\n",
       "  @media (prefers-color-scheme: dark) {\n",
       "    /* Redefinition of color scheme for dark theme */\n",
       "    --sklearn-color-text-on-default-background: var(--sg-text-color, var(--theme-code-foreground, var(--jp-content-font-color1, white)));\n",
       "    --sklearn-color-background: var(--sg-background-color, var(--theme-background, var(--jp-layout-color0, #111)));\n",
       "    --sklearn-color-border-box: var(--sg-text-color, var(--theme-code-foreground, var(--jp-content-font-color1, white)));\n",
       "    --sklearn-color-icon: #878787;\n",
       "  }\n",
       "}\n",
       "\n",
       "#sk-container-id-1 {\n",
       "  color: var(--sklearn-color-text);\n",
       "}\n",
       "\n",
       "#sk-container-id-1 pre {\n",
       "  padding: 0;\n",
       "}\n",
       "\n",
       "#sk-container-id-1 input.sk-hidden--visually {\n",
       "  border: 0;\n",
       "  clip: rect(1px 1px 1px 1px);\n",
       "  clip: rect(1px, 1px, 1px, 1px);\n",
       "  height: 1px;\n",
       "  margin: -1px;\n",
       "  overflow: hidden;\n",
       "  padding: 0;\n",
       "  position: absolute;\n",
       "  width: 1px;\n",
       "}\n",
       "\n",
       "#sk-container-id-1 div.sk-dashed-wrapped {\n",
       "  border: 1px dashed var(--sklearn-color-line);\n",
       "  margin: 0 0.4em 0.5em 0.4em;\n",
       "  box-sizing: border-box;\n",
       "  padding-bottom: 0.4em;\n",
       "  background-color: var(--sklearn-color-background);\n",
       "}\n",
       "\n",
       "#sk-container-id-1 div.sk-container {\n",
       "  /* jupyter's `normalize.less` sets `[hidden] { display: none; }`\n",
       "     but bootstrap.min.css set `[hidden] { display: none !important; }`\n",
       "     so we also need the `!important` here to be able to override the\n",
       "     default hidden behavior on the sphinx rendered scikit-learn.org.\n",
       "     See: https://github.com/scikit-learn/scikit-learn/issues/21755 */\n",
       "  display: inline-block !important;\n",
       "  position: relative;\n",
       "}\n",
       "\n",
       "#sk-container-id-1 div.sk-text-repr-fallback {\n",
       "  display: none;\n",
       "}\n",
       "\n",
       "div.sk-parallel-item,\n",
       "div.sk-serial,\n",
       "div.sk-item {\n",
       "  /* draw centered vertical line to link estimators */\n",
       "  background-image: linear-gradient(var(--sklearn-color-text-on-default-background), var(--sklearn-color-text-on-default-background));\n",
       "  background-size: 2px 100%;\n",
       "  background-repeat: no-repeat;\n",
       "  background-position: center center;\n",
       "}\n",
       "\n",
       "/* Parallel-specific style estimator block */\n",
       "\n",
       "#sk-container-id-1 div.sk-parallel-item::after {\n",
       "  content: \"\";\n",
       "  width: 100%;\n",
       "  border-bottom: 2px solid var(--sklearn-color-text-on-default-background);\n",
       "  flex-grow: 1;\n",
       "}\n",
       "\n",
       "#sk-container-id-1 div.sk-parallel {\n",
       "  display: flex;\n",
       "  align-items: stretch;\n",
       "  justify-content: center;\n",
       "  background-color: var(--sklearn-color-background);\n",
       "  position: relative;\n",
       "}\n",
       "\n",
       "#sk-container-id-1 div.sk-parallel-item {\n",
       "  display: flex;\n",
       "  flex-direction: column;\n",
       "}\n",
       "\n",
       "#sk-container-id-1 div.sk-parallel-item:first-child::after {\n",
       "  align-self: flex-end;\n",
       "  width: 50%;\n",
       "}\n",
       "\n",
       "#sk-container-id-1 div.sk-parallel-item:last-child::after {\n",
       "  align-self: flex-start;\n",
       "  width: 50%;\n",
       "}\n",
       "\n",
       "#sk-container-id-1 div.sk-parallel-item:only-child::after {\n",
       "  width: 0;\n",
       "}\n",
       "\n",
       "/* Serial-specific style estimator block */\n",
       "\n",
       "#sk-container-id-1 div.sk-serial {\n",
       "  display: flex;\n",
       "  flex-direction: column;\n",
       "  align-items: center;\n",
       "  background-color: var(--sklearn-color-background);\n",
       "  padding-right: 1em;\n",
       "  padding-left: 1em;\n",
       "}\n",
       "\n",
       "\n",
       "/* Toggleable style: style used for estimator/Pipeline/ColumnTransformer box that is\n",
       "clickable and can be expanded/collapsed.\n",
       "- Pipeline and ColumnTransformer use this feature and define the default style\n",
       "- Estimators will overwrite some part of the style using the `sk-estimator` class\n",
       "*/\n",
       "\n",
       "/* Pipeline and ColumnTransformer style (default) */\n",
       "\n",
       "#sk-container-id-1 div.sk-toggleable {\n",
       "  /* Default theme specific background. It is overwritten whether we have a\n",
       "  specific estimator or a Pipeline/ColumnTransformer */\n",
       "  background-color: var(--sklearn-color-background);\n",
       "}\n",
       "\n",
       "/* Toggleable label */\n",
       "#sk-container-id-1 label.sk-toggleable__label {\n",
       "  cursor: pointer;\n",
       "  display: block;\n",
       "  width: 100%;\n",
       "  margin-bottom: 0;\n",
       "  padding: 0.5em;\n",
       "  box-sizing: border-box;\n",
       "  text-align: center;\n",
       "}\n",
       "\n",
       "#sk-container-id-1 label.sk-toggleable__label-arrow:before {\n",
       "  /* Arrow on the left of the label */\n",
       "  content: \"▸\";\n",
       "  float: left;\n",
       "  margin-right: 0.25em;\n",
       "  color: var(--sklearn-color-icon);\n",
       "}\n",
       "\n",
       "#sk-container-id-1 label.sk-toggleable__label-arrow:hover:before {\n",
       "  color: var(--sklearn-color-text);\n",
       "}\n",
       "\n",
       "/* Toggleable content - dropdown */\n",
       "\n",
       "#sk-container-id-1 div.sk-toggleable__content {\n",
       "  max-height: 0;\n",
       "  max-width: 0;\n",
       "  overflow: hidden;\n",
       "  text-align: left;\n",
       "  /* unfitted */\n",
       "  background-color: var(--sklearn-color-unfitted-level-0);\n",
       "}\n",
       "\n",
       "#sk-container-id-1 div.sk-toggleable__content.fitted {\n",
       "  /* fitted */\n",
       "  background-color: var(--sklearn-color-fitted-level-0);\n",
       "}\n",
       "\n",
       "#sk-container-id-1 div.sk-toggleable__content pre {\n",
       "  margin: 0.2em;\n",
       "  border-radius: 0.25em;\n",
       "  color: var(--sklearn-color-text);\n",
       "  /* unfitted */\n",
       "  background-color: var(--sklearn-color-unfitted-level-0);\n",
       "}\n",
       "\n",
       "#sk-container-id-1 div.sk-toggleable__content.fitted pre {\n",
       "  /* unfitted */\n",
       "  background-color: var(--sklearn-color-fitted-level-0);\n",
       "}\n",
       "\n",
       "#sk-container-id-1 input.sk-toggleable__control:checked~div.sk-toggleable__content {\n",
       "  /* Expand drop-down */\n",
       "  max-height: 200px;\n",
       "  max-width: 100%;\n",
       "  overflow: auto;\n",
       "}\n",
       "\n",
       "#sk-container-id-1 input.sk-toggleable__control:checked~label.sk-toggleable__label-arrow:before {\n",
       "  content: \"▾\";\n",
       "}\n",
       "\n",
       "/* Pipeline/ColumnTransformer-specific style */\n",
       "\n",
       "#sk-container-id-1 div.sk-label input.sk-toggleable__control:checked~label.sk-toggleable__label {\n",
       "  color: var(--sklearn-color-text);\n",
       "  background-color: var(--sklearn-color-unfitted-level-2);\n",
       "}\n",
       "\n",
       "#sk-container-id-1 div.sk-label.fitted input.sk-toggleable__control:checked~label.sk-toggleable__label {\n",
       "  background-color: var(--sklearn-color-fitted-level-2);\n",
       "}\n",
       "\n",
       "/* Estimator-specific style */\n",
       "\n",
       "/* Colorize estimator box */\n",
       "#sk-container-id-1 div.sk-estimator input.sk-toggleable__control:checked~label.sk-toggleable__label {\n",
       "  /* unfitted */\n",
       "  background-color: var(--sklearn-color-unfitted-level-2);\n",
       "}\n",
       "\n",
       "#sk-container-id-1 div.sk-estimator.fitted input.sk-toggleable__control:checked~label.sk-toggleable__label {\n",
       "  /* fitted */\n",
       "  background-color: var(--sklearn-color-fitted-level-2);\n",
       "}\n",
       "\n",
       "#sk-container-id-1 div.sk-label label.sk-toggleable__label,\n",
       "#sk-container-id-1 div.sk-label label {\n",
       "  /* The background is the default theme color */\n",
       "  color: var(--sklearn-color-text-on-default-background);\n",
       "}\n",
       "\n",
       "/* On hover, darken the color of the background */\n",
       "#sk-container-id-1 div.sk-label:hover label.sk-toggleable__label {\n",
       "  color: var(--sklearn-color-text);\n",
       "  background-color: var(--sklearn-color-unfitted-level-2);\n",
       "}\n",
       "\n",
       "/* Label box, darken color on hover, fitted */\n",
       "#sk-container-id-1 div.sk-label.fitted:hover label.sk-toggleable__label.fitted {\n",
       "  color: var(--sklearn-color-text);\n",
       "  background-color: var(--sklearn-color-fitted-level-2);\n",
       "}\n",
       "\n",
       "/* Estimator label */\n",
       "\n",
       "#sk-container-id-1 div.sk-label label {\n",
       "  font-family: monospace;\n",
       "  font-weight: bold;\n",
       "  display: inline-block;\n",
       "  line-height: 1.2em;\n",
       "}\n",
       "\n",
       "#sk-container-id-1 div.sk-label-container {\n",
       "  text-align: center;\n",
       "}\n",
       "\n",
       "/* Estimator-specific */\n",
       "#sk-container-id-1 div.sk-estimator {\n",
       "  font-family: monospace;\n",
       "  border: 1px dotted var(--sklearn-color-border-box);\n",
       "  border-radius: 0.25em;\n",
       "  box-sizing: border-box;\n",
       "  margin-bottom: 0.5em;\n",
       "  /* unfitted */\n",
       "  background-color: var(--sklearn-color-unfitted-level-0);\n",
       "}\n",
       "\n",
       "#sk-container-id-1 div.sk-estimator.fitted {\n",
       "  /* fitted */\n",
       "  background-color: var(--sklearn-color-fitted-level-0);\n",
       "}\n",
       "\n",
       "/* on hover */\n",
       "#sk-container-id-1 div.sk-estimator:hover {\n",
       "  /* unfitted */\n",
       "  background-color: var(--sklearn-color-unfitted-level-2);\n",
       "}\n",
       "\n",
       "#sk-container-id-1 div.sk-estimator.fitted:hover {\n",
       "  /* fitted */\n",
       "  background-color: var(--sklearn-color-fitted-level-2);\n",
       "}\n",
       "\n",
       "/* Specification for estimator info (e.g. \"i\" and \"?\") */\n",
       "\n",
       "/* Common style for \"i\" and \"?\" */\n",
       "\n",
       ".sk-estimator-doc-link,\n",
       "a:link.sk-estimator-doc-link,\n",
       "a:visited.sk-estimator-doc-link {\n",
       "  float: right;\n",
       "  font-size: smaller;\n",
       "  line-height: 1em;\n",
       "  font-family: monospace;\n",
       "  background-color: var(--sklearn-color-background);\n",
       "  border-radius: 1em;\n",
       "  height: 1em;\n",
       "  width: 1em;\n",
       "  text-decoration: none !important;\n",
       "  margin-left: 1ex;\n",
       "  /* unfitted */\n",
       "  border: var(--sklearn-color-unfitted-level-1) 1pt solid;\n",
       "  color: var(--sklearn-color-unfitted-level-1);\n",
       "}\n",
       "\n",
       ".sk-estimator-doc-link.fitted,\n",
       "a:link.sk-estimator-doc-link.fitted,\n",
       "a:visited.sk-estimator-doc-link.fitted {\n",
       "  /* fitted */\n",
       "  border: var(--sklearn-color-fitted-level-1) 1pt solid;\n",
       "  color: var(--sklearn-color-fitted-level-1);\n",
       "}\n",
       "\n",
       "/* On hover */\n",
       "div.sk-estimator:hover .sk-estimator-doc-link:hover,\n",
       ".sk-estimator-doc-link:hover,\n",
       "div.sk-label-container:hover .sk-estimator-doc-link:hover,\n",
       ".sk-estimator-doc-link:hover {\n",
       "  /* unfitted */\n",
       "  background-color: var(--sklearn-color-unfitted-level-3);\n",
       "  color: var(--sklearn-color-background);\n",
       "  text-decoration: none;\n",
       "}\n",
       "\n",
       "div.sk-estimator.fitted:hover .sk-estimator-doc-link.fitted:hover,\n",
       ".sk-estimator-doc-link.fitted:hover,\n",
       "div.sk-label-container:hover .sk-estimator-doc-link.fitted:hover,\n",
       ".sk-estimator-doc-link.fitted:hover {\n",
       "  /* fitted */\n",
       "  background-color: var(--sklearn-color-fitted-level-3);\n",
       "  color: var(--sklearn-color-background);\n",
       "  text-decoration: none;\n",
       "}\n",
       "\n",
       "/* Span, style for the box shown on hovering the info icon */\n",
       ".sk-estimator-doc-link span {\n",
       "  display: none;\n",
       "  z-index: 9999;\n",
       "  position: relative;\n",
       "  font-weight: normal;\n",
       "  right: .2ex;\n",
       "  padding: .5ex;\n",
       "  margin: .5ex;\n",
       "  width: min-content;\n",
       "  min-width: 20ex;\n",
       "  max-width: 50ex;\n",
       "  color: var(--sklearn-color-text);\n",
       "  box-shadow: 2pt 2pt 4pt #999;\n",
       "  /* unfitted */\n",
       "  background: var(--sklearn-color-unfitted-level-0);\n",
       "  border: .5pt solid var(--sklearn-color-unfitted-level-3);\n",
       "}\n",
       "\n",
       ".sk-estimator-doc-link.fitted span {\n",
       "  /* fitted */\n",
       "  background: var(--sklearn-color-fitted-level-0);\n",
       "  border: var(--sklearn-color-fitted-level-3);\n",
       "}\n",
       "\n",
       ".sk-estimator-doc-link:hover span {\n",
       "  display: block;\n",
       "}\n",
       "\n",
       "/* \"?\"-specific style due to the `<a>` HTML tag */\n",
       "\n",
       "#sk-container-id-1 a.estimator_doc_link {\n",
       "  float: right;\n",
       "  font-size: 1rem;\n",
       "  line-height: 1em;\n",
       "  font-family: monospace;\n",
       "  background-color: var(--sklearn-color-background);\n",
       "  border-radius: 1rem;\n",
       "  height: 1rem;\n",
       "  width: 1rem;\n",
       "  text-decoration: none;\n",
       "  /* unfitted */\n",
       "  color: var(--sklearn-color-unfitted-level-1);\n",
       "  border: var(--sklearn-color-unfitted-level-1) 1pt solid;\n",
       "}\n",
       "\n",
       "#sk-container-id-1 a.estimator_doc_link.fitted {\n",
       "  /* fitted */\n",
       "  border: var(--sklearn-color-fitted-level-1) 1pt solid;\n",
       "  color: var(--sklearn-color-fitted-level-1);\n",
       "}\n",
       "\n",
       "/* On hover */\n",
       "#sk-container-id-1 a.estimator_doc_link:hover {\n",
       "  /* unfitted */\n",
       "  background-color: var(--sklearn-color-unfitted-level-3);\n",
       "  color: var(--sklearn-color-background);\n",
       "  text-decoration: none;\n",
       "}\n",
       "\n",
       "#sk-container-id-1 a.estimator_doc_link.fitted:hover {\n",
       "  /* fitted */\n",
       "  background-color: var(--sklearn-color-fitted-level-3);\n",
       "}\n",
       "</style><div id=\"sk-container-id-1\" class=\"sk-top-container\"><div class=\"sk-text-repr-fallback\"><pre>RandomForestClassifier()</pre><b>In a Jupyter environment, please rerun this cell to show the HTML representation or trust the notebook. <br />On GitHub, the HTML representation is unable to render, please try loading this page with nbviewer.org.</b></div><div class=\"sk-container\" hidden><div class=\"sk-item\"><div class=\"sk-estimator fitted sk-toggleable\"><input class=\"sk-toggleable__control sk-hidden--visually\" id=\"sk-estimator-id-1\" type=\"checkbox\" checked><label for=\"sk-estimator-id-1\" class=\"sk-toggleable__label fitted sk-toggleable__label-arrow fitted\">&nbsp;&nbsp;RandomForestClassifier<a class=\"sk-estimator-doc-link fitted\" rel=\"noreferrer\" target=\"_blank\" href=\"https://scikit-learn.org/1.5/modules/generated/sklearn.ensemble.RandomForestClassifier.html\">?<span>Documentation for RandomForestClassifier</span></a><span class=\"sk-estimator-doc-link fitted\">i<span>Fitted</span></span></label><div class=\"sk-toggleable__content fitted\"><pre>RandomForestClassifier()</pre></div> </div></div></div></div>"
      ],
      "text/plain": [
       "RandomForestClassifier()"
      ]
     },
     "execution_count": 97,
     "metadata": {},
     "output_type": "execute_result"
    }
   ],
   "source": [
    "rfcl.fit(xtrain,ytrain) # fit the training data on random forest classifier model"
   ]
  },
  {
   "cell_type": "code",
   "execution_count": 98,
   "metadata": {},
   "outputs": [],
   "source": [
    "y_pred=rfcl.predict(xtest) # predict on test dataframe"
   ]
  },
  {
   "cell_type": "markdown",
   "metadata": {},
   "source": [
    "METRICS"
   ]
  },
  {
   "cell_type": "code",
   "execution_count": 103,
   "metadata": {},
   "outputs": [],
   "source": [
    "# import the metrics \n",
    "from sklearn.metrics import classification_report,precision_score,recall_score,f1_score"
   ]
  },
  {
   "cell_type": "code",
   "execution_count": 104,
   "metadata": {},
   "outputs": [],
   "source": [
    "precision = precision_score(ytest, y_pred) #precision metrics\n",
    "recall = recall_score(ytest,y_pred ) #recall metrics\n",
    "f1score = f1_score(ytest, y_pred) #f1score metrics"
   ]
  },
  {
   "cell_type": "code",
   "execution_count": 105,
   "metadata": {},
   "outputs": [
    {
     "name": "stdout",
     "output_type": "stream",
     "text": [
      "precision: 0.6859504132231405\n"
     ]
    }
   ],
   "source": [
    "print(\"precision:\",precision) "
   ]
  },
  {
   "cell_type": "code",
   "execution_count": 106,
   "metadata": {},
   "outputs": [
    {
     "name": "stdout",
     "output_type": "stream",
     "text": [
      "recall: 0.45604395604395603\n"
     ]
    }
   ],
   "source": [
    "print(\"recall:\",recall)"
   ]
  },
  {
   "cell_type": "code",
   "execution_count": 107,
   "metadata": {},
   "outputs": [
    {
     "name": "stdout",
     "output_type": "stream",
     "text": [
      "f1score: 0.5478547854785478\n"
     ]
    }
   ],
   "source": [
    "print(\"f1score:\",f1score)"
   ]
  },
  {
   "cell_type": "code",
   "execution_count": 108,
   "metadata": {},
   "outputs": [
    {
     "name": "stdout",
     "output_type": "stream",
     "text": [
      "classification metrics               precision    recall  f1-score   support\n",
      "\n",
      "           0       0.89      0.95      0.92      1636\n",
      "           1       0.69      0.46      0.55       364\n",
      "\n",
      "    accuracy                           0.86      2000\n",
      "   macro avg       0.79      0.70      0.73      2000\n",
      "weighted avg       0.85      0.86      0.85      2000\n",
      "\n"
     ]
    }
   ],
   "source": [
    "print(\"classification metrics\", classification_report(ytest,y_pred))"
   ]
  },
  {
   "cell_type": "markdown",
   "metadata": {},
   "source": [
    "Inference : \n",
    "1) Polars library is almost similar to Pandas in functionality \n",
    "2) Polars do not have direct support  with visualisation libraries\n",
    "3) Polars dataframes works with Sklearn library easily "
   ]
  }
 ],
 "metadata": {
  "kernelspec": {
   "display_name": "py312",
   "language": "python",
   "name": "python3"
  },
  "language_info": {
   "codemirror_mode": {
    "name": "ipython",
    "version": 3
   },
   "file_extension": ".py",
   "mimetype": "text/x-python",
   "name": "python",
   "nbconvert_exporter": "python",
   "pygments_lexer": "ipython3",
   "version": "3.12.4"
  }
 },
 "nbformat": 4,
 "nbformat_minor": 2
}
